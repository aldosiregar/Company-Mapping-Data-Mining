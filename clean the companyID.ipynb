{
 "cells": [
  {
   "cell_type": "code",
   "execution_count": 72,
   "id": "ed93e2e4-9c52-4242-a322-c71c430f1cd8",
   "metadata": {},
   "outputs": [],
   "source": [
    "import pandas as pd\n",
    "import numpy as np"
   ]
  },
  {
   "cell_type": "code",
   "execution_count": 73,
   "id": "8d1b7b4e-c08c-4a93-a7df-3b613746050d",
   "metadata": {},
   "outputs": [],
   "source": [
    "df = pd.read_excel(\"companiesData.xlsx\")"
   ]
  },
  {
   "cell_type": "code",
   "execution_count": 74,
   "id": "88405637-0a1b-4b2e-8a52-478991469f53",
   "metadata": {},
   "outputs": [
    {
     "name": "stdout",
     "output_type": "stream",
     "text": [
      "<class 'pandas.core.frame.DataFrame'>\n",
      "RangeIndex: 558 entries, 0 to 557\n",
      "Data columns (total 8 columns):\n",
      " #   Column              Non-Null Count  Dtype  \n",
      "---  ------              --------------  -----  \n",
      " 0   Unnamed: 0          558 non-null    int64  \n",
      " 1   companyId           558 non-null    object \n",
      " 2   companyName         556 non-null    object \n",
      " 3   companyRating       554 non-null    float64\n",
      " 4   companyEmployees    554 non-null    object \n",
      " 5   companyLocation     558 non-null    object \n",
      " 6   companyDescription  303 non-null    object \n",
      " 7   companyType         558 non-null    object \n",
      "dtypes: float64(1), int64(1), object(6)\n",
      "memory usage: 35.0+ KB\n"
     ]
    }
   ],
   "source": [
    "df.info()"
   ]
  },
  {
   "cell_type": "code",
   "execution_count": 75,
   "id": "8bcd268d-62db-46fb-bb95-61f6a897ac9c",
   "metadata": {},
   "outputs": [],
   "source": [
    "df = df[~df[\"companyName\"].isna()]"
   ]
  },
  {
   "cell_type": "code",
   "execution_count": 76,
   "id": "39637551-f5f9-4573-9f5a-7c37c2990a0c",
   "metadata": {},
   "outputs": [
    {
     "data": {
      "text/plain": [
       "(556, 8)"
      ]
     },
     "execution_count": 76,
     "metadata": {},
     "output_type": "execute_result"
    }
   ],
   "source": [
    "df.shape"
   ]
  },
  {
   "cell_type": "code",
   "execution_count": 77,
   "id": "a104738e-5c60-4faf-b8ac-43f2529fcfc8",
   "metadata": {},
   "outputs": [],
   "source": [
    "nans = pd.to_numeric(df[\"companyName\"], errors=\"coerce\").isna()"
   ]
  },
  {
   "cell_type": "code",
   "execution_count": 78,
   "id": "203f9e2c-209b-448c-ac87-711810041521",
   "metadata": {},
   "outputs": [
    {
     "data": {
      "text/plain": [
       "(553, 8)"
      ]
     },
     "execution_count": 78,
     "metadata": {},
     "output_type": "execute_result"
    }
   ],
   "source": [
    "df[nans].shape"
   ]
  },
  {
   "cell_type": "code",
   "execution_count": 79,
   "id": "6ace6dfa-c736-4191-b305-4e5ff9e9bccb",
   "metadata": {},
   "outputs": [],
   "source": [
    "temp = []\n",
    "for i in range(df[nans].shape[0]):\n",
    "    temp.append(\"company_\" + str(i))"
   ]
  },
  {
   "cell_type": "code",
   "execution_count": 80,
   "id": "f150f7d2-febb-4e3f-b9a1-e18b43a0c743",
   "metadata": {},
   "outputs": [
    {
     "data": {
      "text/plain": [
       "553"
      ]
     },
     "execution_count": 80,
     "metadata": {},
     "output_type": "execute_result"
    }
   ],
   "source": [
    "len(temp)"
   ]
  },
  {
   "cell_type": "code",
   "execution_count": 81,
   "id": "8f2e9565-4dc4-4aed-b1c9-10e365f27d36",
   "metadata": {},
   "outputs": [],
   "source": [
    "new_company_id = pd.Series(temp)"
   ]
  },
  {
   "cell_type": "code",
   "execution_count": 82,
   "id": "34741b99-5d69-45ce-8813-152f8023b81f",
   "metadata": {},
   "outputs": [
    {
     "data": {
      "text/plain": [
       "0        company_0\n",
       "1        company_1\n",
       "2        company_2\n",
       "3        company_3\n",
       "4        company_4\n",
       "          ...     \n",
       "548    company_548\n",
       "549    company_549\n",
       "550    company_550\n",
       "551    company_551\n",
       "552    company_552\n",
       "Length: 553, dtype: object"
      ]
     },
     "execution_count": 82,
     "metadata": {},
     "output_type": "execute_result"
    }
   ],
   "source": [
    "new_company_id"
   ]
  },
  {
   "cell_type": "code",
   "execution_count": 83,
   "id": "d2c2e677-7397-4de0-b78f-e1c8b8cf8546",
   "metadata": {},
   "outputs": [
    {
     "data": {
      "text/plain": [
       "['companyName',\n",
       " 'companyRating',\n",
       " 'companyEmployees',\n",
       " 'companyLocation',\n",
       " 'companyDescription',\n",
       " 'companyType']"
      ]
     },
     "execution_count": 83,
     "metadata": {},
     "output_type": "execute_result"
    }
   ],
   "source": [
    "keys = list(df.keys()[2:])\n",
    "keys"
   ]
  },
  {
   "cell_type": "code",
   "execution_count": 84,
   "id": "90c92f5a-e1a9-45c8-8759-3d62608d5e74",
   "metadata": {},
   "outputs": [],
   "source": [
    "temp_df = df"
   ]
  },
  {
   "cell_type": "code",
   "execution_count": 85,
   "id": "f93d4beb-7121-4f9e-a9e8-afa668f95f81",
   "metadata": {},
   "outputs": [],
   "source": [
    "new_df = temp_df[nans].reset_index()"
   ]
  },
  {
   "cell_type": "code",
   "execution_count": 86,
   "id": "a17a4d4f-ad76-45f3-ace1-b63f958641c4",
   "metadata": {},
   "outputs": [],
   "source": [
    "new_df = new_df[list(new_df.keys()[2:])]"
   ]
  },
  {
   "cell_type": "code",
   "execution_count": 87,
   "id": "a79ee035-cea8-43e6-97d9-6e056a4cb5aa",
   "metadata": {},
   "outputs": [
    {
     "data": {
      "text/html": [
       "<div>\n",
       "<style scoped>\n",
       "    .dataframe tbody tr th:only-of-type {\n",
       "        vertical-align: middle;\n",
       "    }\n",
       "\n",
       "    .dataframe tbody tr th {\n",
       "        vertical-align: top;\n",
       "    }\n",
       "\n",
       "    .dataframe thead th {\n",
       "        text-align: right;\n",
       "    }\n",
       "</style>\n",
       "<table border=\"1\" class=\"dataframe\">\n",
       "  <thead>\n",
       "    <tr style=\"text-align: right;\">\n",
       "      <th></th>\n",
       "      <th>Unnamed: 0</th>\n",
       "      <th>companyId</th>\n",
       "      <th>companyName</th>\n",
       "      <th>companyRating</th>\n",
       "      <th>companyEmployees</th>\n",
       "      <th>companyLocation</th>\n",
       "      <th>companyDescription</th>\n",
       "      <th>companyType</th>\n",
       "    </tr>\n",
       "  </thead>\n",
       "  <tbody>\n",
       "    <tr>\n",
       "      <th>0</th>\n",
       "      <td>0</td>\n",
       "      <td>company_0</td>\n",
       "      <td>IBM</td>\n",
       "      <td>4.0</td>\n",
       "      <td>10000+ employees</td>\n",
       "      <td>Jakarta</td>\n",
       "      <td>IBM works to design, advance, and scale the te...</td>\n",
       "      <td>Information Technology</td>\n",
       "    </tr>\n",
       "    <tr>\n",
       "      <th>1</th>\n",
       "      <td>1</td>\n",
       "      <td>company_1</td>\n",
       "      <td>Tokopedia</td>\n",
       "      <td>4.2</td>\n",
       "      <td>5001 to 10000 employees</td>\n",
       "      <td>Jakarta</td>\n",
       "      <td>Tokopedia is an Indonesian technology company ...</td>\n",
       "      <td>Information Technology</td>\n",
       "    </tr>\n",
       "    <tr>\n",
       "      <th>2</th>\n",
       "      <td>2</td>\n",
       "      <td>company_2</td>\n",
       "      <td>Google</td>\n",
       "      <td>4.3</td>\n",
       "      <td>10000+ employees</td>\n",
       "      <td>Jakarta</td>\n",
       "      <td>Since our founding in 1998, Google has grown b...</td>\n",
       "      <td>Information Technology</td>\n",
       "    </tr>\n",
       "    <tr>\n",
       "      <th>3</th>\n",
       "      <td>3</td>\n",
       "      <td>company_3</td>\n",
       "      <td>Microsoft</td>\n",
       "      <td>4.2</td>\n",
       "      <td>10000+ employees</td>\n",
       "      <td>Jakarta</td>\n",
       "      <td>At Microsoft, our mission is to empower every ...</td>\n",
       "      <td>Information Technology</td>\n",
       "    </tr>\n",
       "    <tr>\n",
       "      <th>4</th>\n",
       "      <td>4</td>\n",
       "      <td>company_4</td>\n",
       "      <td>Gojek</td>\n",
       "      <td>4.1</td>\n",
       "      <td>1001 to 5000 employees</td>\n",
       "      <td>Jakarta</td>\n",
       "      <td>Gojek is Southeast Asia’s leading on-demand pl...</td>\n",
       "      <td>Information Technology</td>\n",
       "    </tr>\n",
       "    <tr>\n",
       "      <th>...</th>\n",
       "      <td>...</td>\n",
       "      <td>...</td>\n",
       "      <td>...</td>\n",
       "      <td>...</td>\n",
       "      <td>...</td>\n",
       "      <td>...</td>\n",
       "      <td>...</td>\n",
       "      <td>...</td>\n",
       "    </tr>\n",
       "    <tr>\n",
       "      <th>533</th>\n",
       "      <td>533</td>\n",
       "      <td>company_533</td>\n",
       "      <td>SF Group</td>\n",
       "      <td>4.2</td>\n",
       "      <td>Unknown</td>\n",
       "      <td>Jakarta</td>\n",
       "      <td>NaN</td>\n",
       "      <td>Advertising &amp; Public Relasion</td>\n",
       "    </tr>\n",
       "    <tr>\n",
       "      <th>534</th>\n",
       "      <td>534</td>\n",
       "      <td>company_534</td>\n",
       "      <td>SHIFT (Indonesia)</td>\n",
       "      <td>4.1</td>\n",
       "      <td>1 to 50 employees</td>\n",
       "      <td>Jakarta</td>\n",
       "      <td>NaN</td>\n",
       "      <td>Advertising &amp; Public Relasion</td>\n",
       "    </tr>\n",
       "    <tr>\n",
       "      <th>535</th>\n",
       "      <td>535</td>\n",
       "      <td>company_535</td>\n",
       "      <td>Metaphor</td>\n",
       "      <td>4.6</td>\n",
       "      <td>1 to 50 employees</td>\n",
       "      <td>Jakarta</td>\n",
       "      <td>NaN</td>\n",
       "      <td>Advertising &amp; Public Relasion</td>\n",
       "    </tr>\n",
       "    <tr>\n",
       "      <th>536</th>\n",
       "      <td>536</td>\n",
       "      <td>company_536</td>\n",
       "      <td>SMS Group of Companies</td>\n",
       "      <td>4.7</td>\n",
       "      <td>1 to 50 employees</td>\n",
       "      <td>Jakarta</td>\n",
       "      <td>NaN</td>\n",
       "      <td>Advertising &amp; Public Relasion</td>\n",
       "    </tr>\n",
       "    <tr>\n",
       "      <th>537</th>\n",
       "      <td>537</td>\n",
       "      <td>company_537</td>\n",
       "      <td>Linked-In Marketing</td>\n",
       "      <td>4.3</td>\n",
       "      <td>1 to 50 employees</td>\n",
       "      <td>Jakarta</td>\n",
       "      <td>NaN</td>\n",
       "      <td>Advertising &amp; Public Relasion</td>\n",
       "    </tr>\n",
       "  </tbody>\n",
       "</table>\n",
       "<p>536 rows × 8 columns</p>\n",
       "</div>"
      ],
      "text/plain": [
       "     Unnamed: 0    companyId             companyName  companyRating  \\\n",
       "0             0    company_0                     IBM            4.0   \n",
       "1             1    company_1               Tokopedia            4.2   \n",
       "2             2    company_2                  Google            4.3   \n",
       "3             3    company_3               Microsoft            4.2   \n",
       "4             4    company_4                   Gojek            4.1   \n",
       "..          ...          ...                     ...            ...   \n",
       "533         533  company_533                SF Group            4.2   \n",
       "534         534  company_534       SHIFT (Indonesia)            4.1   \n",
       "535         535  company_535                Metaphor            4.6   \n",
       "536         536  company_536  SMS Group of Companies            4.7   \n",
       "537         537  company_537     Linked-In Marketing            4.3   \n",
       "\n",
       "            companyEmployees companyLocation  \\\n",
       "0           10000+ employees         Jakarta   \n",
       "1    5001 to 10000 employees         Jakarta   \n",
       "2           10000+ employees         Jakarta   \n",
       "3           10000+ employees         Jakarta   \n",
       "4     1001 to 5000 employees         Jakarta   \n",
       "..                       ...             ...   \n",
       "533                  Unknown         Jakarta   \n",
       "534        1 to 50 employees         Jakarta   \n",
       "535        1 to 50 employees         Jakarta   \n",
       "536        1 to 50 employees         Jakarta   \n",
       "537        1 to 50 employees         Jakarta   \n",
       "\n",
       "                                    companyDescription  \\\n",
       "0    IBM works to design, advance, and scale the te...   \n",
       "1    Tokopedia is an Indonesian technology company ...   \n",
       "2    Since our founding in 1998, Google has grown b...   \n",
       "3    At Microsoft, our mission is to empower every ...   \n",
       "4    Gojek is Southeast Asia’s leading on-demand pl...   \n",
       "..                                                 ...   \n",
       "533                                                NaN   \n",
       "534                                                NaN   \n",
       "535                                                NaN   \n",
       "536                                                NaN   \n",
       "537                                                NaN   \n",
       "\n",
       "                       companyType  \n",
       "0           Information Technology  \n",
       "1           Information Technology  \n",
       "2           Information Technology  \n",
       "3           Information Technology  \n",
       "4           Information Technology  \n",
       "..                             ...  \n",
       "533  Advertising & Public Relasion  \n",
       "534  Advertising & Public Relasion  \n",
       "535  Advertising & Public Relasion  \n",
       "536  Advertising & Public Relasion  \n",
       "537  Advertising & Public Relasion  \n",
       "\n",
       "[536 rows x 8 columns]"
      ]
     },
     "execution_count": 87,
     "metadata": {},
     "output_type": "execute_result"
    }
   ],
   "source": [
    "df.head(-20)"
   ]
  },
  {
   "cell_type": "code",
   "execution_count": 88,
   "id": "451207a9-43f8-4702-a318-0af96123f469",
   "metadata": {},
   "outputs": [],
   "source": [
    "new_df.to_excel(\"cleanData.xlsx\")\n",
    "new_df.to_csv(\"cleanData.csv\")"
   ]
  }
 ],
 "metadata": {
  "kernelspec": {
   "display_name": "Python 3 (ipykernel)",
   "language": "python",
   "name": "python3"
  },
  "language_info": {
   "codemirror_mode": {
    "name": "ipython",
    "version": 3
   },
   "file_extension": ".py",
   "mimetype": "text/x-python",
   "name": "python",
   "nbconvert_exporter": "python",
   "pygments_lexer": "ipython3",
   "version": "3.13.1"
  }
 },
 "nbformat": 4,
 "nbformat_minor": 5
}
